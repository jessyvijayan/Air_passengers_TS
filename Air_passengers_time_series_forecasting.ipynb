{
 "cells": [
  {
   "cell_type": "code",
   "execution_count": 1,
   "id": "7ddce4d8",
   "metadata": {},
   "outputs": [],
   "source": [
    "import pandas as pd \n",
    "import numpy as np\n",
    "import matplotlib.pyplot as plt\n",
    "\n",
    "import statsmodels as sm\n",
    "from statsmodels.tsa.stattools import adfuller\n",
    "from statsmodels.graphics.tsaplots import plot_acf,plot_pacf,acf\n",
    "from statsmodels.tsa.arima_model import ARIMA\n",
    "from statsmodels.tsa.statespace import sarimax\n",
    "from pandas.tseries.offsets import DateOffset\n",
    "from sklearn.metrics import r2_score,mean_squared_error\n",
    "from statsmodels.tsa.seasonal import seasonal_decompose\n",
    "from pmdarima import auto_arima\n",
    "\n",
    "import warnings\n",
    "warnings.filterwarnings('ignore')"
   ]
  },
  {
   "cell_type": "code",
   "execution_count": 2,
   "id": "448a27f0",
   "metadata": {},
   "outputs": [],
   "source": [
    "df = pd.read_csv('AirPassengers.csv')\n",
    "df1 = pd.read_csv('AirPassengers.csv')"
   ]
  },
  {
   "cell_type": "code",
   "execution_count": 3,
   "id": "c8741451",
   "metadata": {},
   "outputs": [
    {
     "data": {
      "text/html": [
       "<div>\n",
       "<style scoped>\n",
       "    .dataframe tbody tr th:only-of-type {\n",
       "        vertical-align: middle;\n",
       "    }\n",
       "\n",
       "    .dataframe tbody tr th {\n",
       "        vertical-align: top;\n",
       "    }\n",
       "\n",
       "    .dataframe thead th {\n",
       "        text-align: right;\n",
       "    }\n",
       "</style>\n",
       "<table border=\"1\" class=\"dataframe\">\n",
       "  <thead>\n",
       "    <tr style=\"text-align: right;\">\n",
       "      <th></th>\n",
       "      <th>Month</th>\n",
       "      <th>#Passengers</th>\n",
       "    </tr>\n",
       "  </thead>\n",
       "  <tbody>\n",
       "    <tr>\n",
       "      <th>0</th>\n",
       "      <td>1949-01</td>\n",
       "      <td>112</td>\n",
       "    </tr>\n",
       "    <tr>\n",
       "      <th>1</th>\n",
       "      <td>1949-02</td>\n",
       "      <td>118</td>\n",
       "    </tr>\n",
       "    <tr>\n",
       "      <th>2</th>\n",
       "      <td>1949-03</td>\n",
       "      <td>132</td>\n",
       "    </tr>\n",
       "    <tr>\n",
       "      <th>3</th>\n",
       "      <td>1949-04</td>\n",
       "      <td>129</td>\n",
       "    </tr>\n",
       "    <tr>\n",
       "      <th>4</th>\n",
       "      <td>1949-05</td>\n",
       "      <td>121</td>\n",
       "    </tr>\n",
       "  </tbody>\n",
       "</table>\n",
       "</div>"
      ],
      "text/plain": [
       "     Month  #Passengers\n",
       "0  1949-01          112\n",
       "1  1949-02          118\n",
       "2  1949-03          132\n",
       "3  1949-04          129\n",
       "4  1949-05          121"
      ]
     },
     "execution_count": 3,
     "metadata": {},
     "output_type": "execute_result"
    }
   ],
   "source": [
    "df.head()"
   ]
  },
  {
   "cell_type": "code",
   "execution_count": 4,
   "id": "57157a92",
   "metadata": {},
   "outputs": [
    {
     "data": {
      "text/plain": [
       "(144, 2)"
      ]
     },
     "execution_count": 4,
     "metadata": {},
     "output_type": "execute_result"
    }
   ],
   "source": [
    "df.shape"
   ]
  },
  {
   "cell_type": "code",
   "execution_count": 5,
   "id": "3a15ff7d",
   "metadata": {},
   "outputs": [],
   "source": [
    "df.columns = ['time','passengers']\n",
    "df1.columns = ['time','passengers']"
   ]
  },
  {
   "cell_type": "code",
   "execution_count": 6,
   "id": "047249b8",
   "metadata": {},
   "outputs": [
    {
     "data": {
      "text/html": [
       "<div>\n",
       "<style scoped>\n",
       "    .dataframe tbody tr th:only-of-type {\n",
       "        vertical-align: middle;\n",
       "    }\n",
       "\n",
       "    .dataframe tbody tr th {\n",
       "        vertical-align: top;\n",
       "    }\n",
       "\n",
       "    .dataframe thead th {\n",
       "        text-align: right;\n",
       "    }\n",
       "</style>\n",
       "<table border=\"1\" class=\"dataframe\">\n",
       "  <thead>\n",
       "    <tr style=\"text-align: right;\">\n",
       "      <th></th>\n",
       "      <th>time</th>\n",
       "      <th>passengers</th>\n",
       "    </tr>\n",
       "  </thead>\n",
       "  <tbody>\n",
       "    <tr>\n",
       "      <th>0</th>\n",
       "      <td>1949-01</td>\n",
       "      <td>112</td>\n",
       "    </tr>\n",
       "    <tr>\n",
       "      <th>1</th>\n",
       "      <td>1949-02</td>\n",
       "      <td>118</td>\n",
       "    </tr>\n",
       "    <tr>\n",
       "      <th>2</th>\n",
       "      <td>1949-03</td>\n",
       "      <td>132</td>\n",
       "    </tr>\n",
       "    <tr>\n",
       "      <th>3</th>\n",
       "      <td>1949-04</td>\n",
       "      <td>129</td>\n",
       "    </tr>\n",
       "    <tr>\n",
       "      <th>4</th>\n",
       "      <td>1949-05</td>\n",
       "      <td>121</td>\n",
       "    </tr>\n",
       "  </tbody>\n",
       "</table>\n",
       "</div>"
      ],
      "text/plain": [
       "      time  passengers\n",
       "0  1949-01         112\n",
       "1  1949-02         118\n",
       "2  1949-03         132\n",
       "3  1949-04         129\n",
       "4  1949-05         121"
      ]
     },
     "execution_count": 6,
     "metadata": {},
     "output_type": "execute_result"
    }
   ],
   "source": [
    "df.head()"
   ]
  },
  {
   "cell_type": "code",
   "execution_count": 7,
   "id": "6c260082",
   "metadata": {},
   "outputs": [
    {
     "data": {
      "text/plain": [
       "time          object\n",
       "passengers     int64\n",
       "dtype: object"
      ]
     },
     "execution_count": 7,
     "metadata": {},
     "output_type": "execute_result"
    }
   ],
   "source": [
    "df.dtypes"
   ]
  },
  {
   "cell_type": "code",
   "execution_count": 8,
   "id": "49f7e1a1",
   "metadata": {},
   "outputs": [],
   "source": [
    "df['time'] = pd.to_datetime(df['time'])\n",
    "df1['time'] = pd.to_datetime(df1['time'])"
   ]
  },
  {
   "cell_type": "code",
   "execution_count": 9,
   "id": "40de0a36",
   "metadata": {},
   "outputs": [
    {
     "data": {
      "text/plain": [
       "time          datetime64[ns]\n",
       "passengers             int64\n",
       "dtype: object"
      ]
     },
     "execution_count": 9,
     "metadata": {},
     "output_type": "execute_result"
    }
   ],
   "source": [
    "df.dtypes"
   ]
  },
  {
   "cell_type": "code",
   "execution_count": 10,
   "id": "0d29a396",
   "metadata": {},
   "outputs": [
    {
     "data": {
      "text/html": [
       "<div>\n",
       "<style scoped>\n",
       "    .dataframe tbody tr th:only-of-type {\n",
       "        vertical-align: middle;\n",
       "    }\n",
       "\n",
       "    .dataframe tbody tr th {\n",
       "        vertical-align: top;\n",
       "    }\n",
       "\n",
       "    .dataframe thead th {\n",
       "        text-align: right;\n",
       "    }\n",
       "</style>\n",
       "<table border=\"1\" class=\"dataframe\">\n",
       "  <thead>\n",
       "    <tr style=\"text-align: right;\">\n",
       "      <th></th>\n",
       "      <th>time</th>\n",
       "      <th>passengers</th>\n",
       "    </tr>\n",
       "  </thead>\n",
       "  <tbody>\n",
       "    <tr>\n",
       "      <th>0</th>\n",
       "      <td>1949-01-01</td>\n",
       "      <td>112</td>\n",
       "    </tr>\n",
       "    <tr>\n",
       "      <th>1</th>\n",
       "      <td>1949-02-01</td>\n",
       "      <td>118</td>\n",
       "    </tr>\n",
       "    <tr>\n",
       "      <th>2</th>\n",
       "      <td>1949-03-01</td>\n",
       "      <td>132</td>\n",
       "    </tr>\n",
       "    <tr>\n",
       "      <th>3</th>\n",
       "      <td>1949-04-01</td>\n",
       "      <td>129</td>\n",
       "    </tr>\n",
       "    <tr>\n",
       "      <th>4</th>\n",
       "      <td>1949-05-01</td>\n",
       "      <td>121</td>\n",
       "    </tr>\n",
       "  </tbody>\n",
       "</table>\n",
       "</div>"
      ],
      "text/plain": [
       "        time  passengers\n",
       "0 1949-01-01         112\n",
       "1 1949-02-01         118\n",
       "2 1949-03-01         132\n",
       "3 1949-04-01         129\n",
       "4 1949-05-01         121"
      ]
     },
     "execution_count": 10,
     "metadata": {},
     "output_type": "execute_result"
    }
   ],
   "source": [
    "df.head()"
   ]
  },
  {
   "cell_type": "code",
   "execution_count": 11,
   "id": "201621cd",
   "metadata": {},
   "outputs": [
    {
     "data": {
      "text/plain": [
       "array(['1949-01-01T00:00:00.000000000', '1949-02-01T00:00:00.000000000',\n",
       "       '1949-03-01T00:00:00.000000000', '1949-04-01T00:00:00.000000000',\n",
       "       '1949-05-01T00:00:00.000000000', '1949-06-01T00:00:00.000000000',\n",
       "       '1949-07-01T00:00:00.000000000', '1949-08-01T00:00:00.000000000',\n",
       "       '1949-09-01T00:00:00.000000000', '1949-10-01T00:00:00.000000000',\n",
       "       '1949-11-01T00:00:00.000000000', '1949-12-01T00:00:00.000000000',\n",
       "       '1950-01-01T00:00:00.000000000', '1950-02-01T00:00:00.000000000',\n",
       "       '1950-03-01T00:00:00.000000000', '1950-04-01T00:00:00.000000000',\n",
       "       '1950-05-01T00:00:00.000000000', '1950-06-01T00:00:00.000000000',\n",
       "       '1950-07-01T00:00:00.000000000', '1950-08-01T00:00:00.000000000',\n",
       "       '1950-09-01T00:00:00.000000000', '1950-10-01T00:00:00.000000000',\n",
       "       '1950-11-01T00:00:00.000000000', '1950-12-01T00:00:00.000000000',\n",
       "       '1951-01-01T00:00:00.000000000', '1951-02-01T00:00:00.000000000',\n",
       "       '1951-03-01T00:00:00.000000000', '1951-04-01T00:00:00.000000000',\n",
       "       '1951-05-01T00:00:00.000000000', '1951-06-01T00:00:00.000000000',\n",
       "       '1951-07-01T00:00:00.000000000', '1951-08-01T00:00:00.000000000',\n",
       "       '1951-09-01T00:00:00.000000000', '1951-10-01T00:00:00.000000000',\n",
       "       '1951-11-01T00:00:00.000000000', '1951-12-01T00:00:00.000000000',\n",
       "       '1952-01-01T00:00:00.000000000', '1952-02-01T00:00:00.000000000',\n",
       "       '1952-03-01T00:00:00.000000000', '1952-04-01T00:00:00.000000000',\n",
       "       '1952-05-01T00:00:00.000000000', '1952-06-01T00:00:00.000000000',\n",
       "       '1952-07-01T00:00:00.000000000', '1952-08-01T00:00:00.000000000',\n",
       "       '1952-09-01T00:00:00.000000000', '1952-10-01T00:00:00.000000000',\n",
       "       '1952-11-01T00:00:00.000000000', '1952-12-01T00:00:00.000000000',\n",
       "       '1953-01-01T00:00:00.000000000', '1953-02-01T00:00:00.000000000',\n",
       "       '1953-03-01T00:00:00.000000000', '1953-04-01T00:00:00.000000000',\n",
       "       '1953-05-01T00:00:00.000000000', '1953-06-01T00:00:00.000000000',\n",
       "       '1953-07-01T00:00:00.000000000', '1953-08-01T00:00:00.000000000',\n",
       "       '1953-09-01T00:00:00.000000000', '1953-10-01T00:00:00.000000000',\n",
       "       '1953-11-01T00:00:00.000000000', '1953-12-01T00:00:00.000000000',\n",
       "       '1954-01-01T00:00:00.000000000', '1954-02-01T00:00:00.000000000',\n",
       "       '1954-03-01T00:00:00.000000000', '1954-04-01T00:00:00.000000000',\n",
       "       '1954-05-01T00:00:00.000000000', '1954-06-01T00:00:00.000000000',\n",
       "       '1954-07-01T00:00:00.000000000', '1954-08-01T00:00:00.000000000',\n",
       "       '1954-09-01T00:00:00.000000000', '1954-10-01T00:00:00.000000000',\n",
       "       '1954-11-01T00:00:00.000000000', '1954-12-01T00:00:00.000000000',\n",
       "       '1955-01-01T00:00:00.000000000', '1955-02-01T00:00:00.000000000',\n",
       "       '1955-03-01T00:00:00.000000000', '1955-04-01T00:00:00.000000000',\n",
       "       '1955-05-01T00:00:00.000000000', '1955-06-01T00:00:00.000000000',\n",
       "       '1955-07-01T00:00:00.000000000', '1955-08-01T00:00:00.000000000',\n",
       "       '1955-09-01T00:00:00.000000000', '1955-10-01T00:00:00.000000000',\n",
       "       '1955-11-01T00:00:00.000000000', '1955-12-01T00:00:00.000000000',\n",
       "       '1956-01-01T00:00:00.000000000', '1956-02-01T00:00:00.000000000',\n",
       "       '1956-03-01T00:00:00.000000000', '1956-04-01T00:00:00.000000000',\n",
       "       '1956-05-01T00:00:00.000000000', '1956-06-01T00:00:00.000000000',\n",
       "       '1956-07-01T00:00:00.000000000', '1956-08-01T00:00:00.000000000',\n",
       "       '1956-09-01T00:00:00.000000000', '1956-10-01T00:00:00.000000000',\n",
       "       '1956-11-01T00:00:00.000000000', '1956-12-01T00:00:00.000000000',\n",
       "       '1957-01-01T00:00:00.000000000', '1957-02-01T00:00:00.000000000',\n",
       "       '1957-03-01T00:00:00.000000000', '1957-04-01T00:00:00.000000000',\n",
       "       '1957-05-01T00:00:00.000000000', '1957-06-01T00:00:00.000000000',\n",
       "       '1957-07-01T00:00:00.000000000', '1957-08-01T00:00:00.000000000',\n",
       "       '1957-09-01T00:00:00.000000000', '1957-10-01T00:00:00.000000000',\n",
       "       '1957-11-01T00:00:00.000000000', '1957-12-01T00:00:00.000000000',\n",
       "       '1958-01-01T00:00:00.000000000', '1958-02-01T00:00:00.000000000',\n",
       "       '1958-03-01T00:00:00.000000000', '1958-04-01T00:00:00.000000000',\n",
       "       '1958-05-01T00:00:00.000000000', '1958-06-01T00:00:00.000000000',\n",
       "       '1958-07-01T00:00:00.000000000', '1958-08-01T00:00:00.000000000',\n",
       "       '1958-09-01T00:00:00.000000000', '1958-10-01T00:00:00.000000000',\n",
       "       '1958-11-01T00:00:00.000000000', '1958-12-01T00:00:00.000000000',\n",
       "       '1959-01-01T00:00:00.000000000', '1959-02-01T00:00:00.000000000',\n",
       "       '1959-03-01T00:00:00.000000000', '1959-04-01T00:00:00.000000000',\n",
       "       '1959-05-01T00:00:00.000000000', '1959-06-01T00:00:00.000000000',\n",
       "       '1959-07-01T00:00:00.000000000', '1959-08-01T00:00:00.000000000',\n",
       "       '1959-09-01T00:00:00.000000000', '1959-10-01T00:00:00.000000000',\n",
       "       '1959-11-01T00:00:00.000000000', '1959-12-01T00:00:00.000000000',\n",
       "       '1960-01-01T00:00:00.000000000', '1960-02-01T00:00:00.000000000',\n",
       "       '1960-03-01T00:00:00.000000000', '1960-04-01T00:00:00.000000000',\n",
       "       '1960-05-01T00:00:00.000000000', '1960-06-01T00:00:00.000000000',\n",
       "       '1960-07-01T00:00:00.000000000', '1960-08-01T00:00:00.000000000',\n",
       "       '1960-09-01T00:00:00.000000000', '1960-10-01T00:00:00.000000000',\n",
       "       '1960-11-01T00:00:00.000000000', '1960-12-01T00:00:00.000000000'],\n",
       "      dtype='datetime64[ns]')"
      ]
     },
     "execution_count": 11,
     "metadata": {},
     "output_type": "execute_result"
    }
   ],
   "source": [
    "df['time'].unique()"
   ]
  },
  {
   "cell_type": "code",
   "execution_count": 12,
   "id": "925779ae",
   "metadata": {},
   "outputs": [],
   "source": [
    "df.set_index('time',inplace=True)\n",
    "df1.set_index('time',inplace=True)"
   ]
  },
  {
   "cell_type": "code",
   "execution_count": 13,
   "id": "d6886fa8",
   "metadata": {},
   "outputs": [
    {
     "data": {
      "text/html": [
       "<div>\n",
       "<style scoped>\n",
       "    .dataframe tbody tr th:only-of-type {\n",
       "        vertical-align: middle;\n",
       "    }\n",
       "\n",
       "    .dataframe tbody tr th {\n",
       "        vertical-align: top;\n",
       "    }\n",
       "\n",
       "    .dataframe thead th {\n",
       "        text-align: right;\n",
       "    }\n",
       "</style>\n",
       "<table border=\"1\" class=\"dataframe\">\n",
       "  <thead>\n",
       "    <tr style=\"text-align: right;\">\n",
       "      <th></th>\n",
       "      <th>passengers</th>\n",
       "    </tr>\n",
       "    <tr>\n",
       "      <th>time</th>\n",
       "      <th></th>\n",
       "    </tr>\n",
       "  </thead>\n",
       "  <tbody>\n",
       "    <tr>\n",
       "      <th>1949-01-01</th>\n",
       "      <td>112</td>\n",
       "    </tr>\n",
       "    <tr>\n",
       "      <th>1949-02-01</th>\n",
       "      <td>118</td>\n",
       "    </tr>\n",
       "    <tr>\n",
       "      <th>1949-03-01</th>\n",
       "      <td>132</td>\n",
       "    </tr>\n",
       "    <tr>\n",
       "      <th>1949-04-01</th>\n",
       "      <td>129</td>\n",
       "    </tr>\n",
       "    <tr>\n",
       "      <th>1949-05-01</th>\n",
       "      <td>121</td>\n",
       "    </tr>\n",
       "  </tbody>\n",
       "</table>\n",
       "</div>"
      ],
      "text/plain": [
       "            passengers\n",
       "time                  \n",
       "1949-01-01         112\n",
       "1949-02-01         118\n",
       "1949-03-01         132\n",
       "1949-04-01         129\n",
       "1949-05-01         121"
      ]
     },
     "execution_count": 13,
     "metadata": {},
     "output_type": "execute_result"
    }
   ],
   "source": [
    "df.head()"
   ]
  },
  {
   "cell_type": "code",
   "execution_count": 14,
   "id": "76647dad",
   "metadata": {},
   "outputs": [
    {
     "data": {
      "text/plain": [
       "(144, 1)"
      ]
     },
     "execution_count": 14,
     "metadata": {},
     "output_type": "execute_result"
    }
   ],
   "source": [
    "df.shape"
   ]
  },
  {
   "cell_type": "markdown",
   "id": "1656d292",
   "metadata": {},
   "source": [
    "## Checking if data is stationary or non-stationary"
   ]
  },
  {
   "cell_type": "code",
   "execution_count": 15,
   "id": "99ea3369",
   "metadata": {
    "scrolled": true
   },
   "outputs": [
    {
     "data": {
      "text/plain": [
       "<AxesSubplot:xlabel='time'>"
      ]
     },
     "execution_count": 15,
     "metadata": {},
     "output_type": "execute_result"
    },
    {
     "data": {
      "image/png": "[encoded data removed]",
      "text/plain": [
       "<Figure size 360x360 with 1 Axes>"
      ]
     },
     "metadata": {
      "needs_background": "light"
     },
     "output_type": "display_data"
    }
   ],
   "source": [
    "df.plot(figsize=(5,5))"
   ]
  },
  {
   "cell_type": "code",
   "execution_count": 16,
   "id": "4e2e7b81",
   "metadata": {},
   "outputs": [],
   "source": [
    "df['passengers'] = np.log(df['passengers'])"
   ]
  },
  {
   "cell_type": "code",
   "execution_count": 17,
   "id": "551259b8",
   "metadata": {},
   "outputs": [
    {
     "data": {
      "text/plain": [
       "<AxesSubplot:xlabel='time'>"
      ]
     },
     "execution_count": 17,
     "metadata": {},
     "output_type": "execute_result"
    },
    {
     "data": {
      "image/png": "[encoded data removed]",
      "text/plain": [
       "<Figure size 360x360 with 1 Axes>"
      ]
     },
     "metadata": {
      "needs_background": "light"
     },
     "output_type": "display_data"
    }
   ],
   "source": [
    "df.plot(figsize=(5,5))"
   ]
  },
  {
   "cell_type": "markdown",
   "id": "a4ef287d",
   "metadata": {},
   "source": [
    "### Performing AD Fuller test to find if data is stationary or non-stationary"
   ]
  },
  {
   "cell_type": "code",
   "execution_count": 18,
   "id": "7767660e",
   "metadata": {},
   "outputs": [],
   "source": [
    "adf = adfuller(df['passengers'])"
   ]
  },
  {
   "cell_type": "code",
   "execution_count": 19,
   "id": "ac328888",
   "metadata": {},
   "outputs": [
    {
     "data": {
      "text/plain": [
       "(-1.7170170891069625,\n",
       " 0.4223667747703904,\n",
       " 13,\n",
       " 130,\n",
       " {'1%': -3.4816817173418295,\n",
       "  '5%': -2.8840418343195267,\n",
       "  '10%': -2.578770059171598},\n",
       " -445.3990312497209)"
      ]
     },
     "execution_count": 19,
     "metadata": {},
     "output_type": "execute_result"
    }
   ],
   "source": [
    "adf"
   ]
  },
  {
   "cell_type": "markdown",
   "id": "39e9fdc4",
   "metadata": {},
   "source": [
    "#### Analysis:\n",
    "    Since the pvalue is greater than 0.05 we accept the null hypothesis i.e. data is non-stationary"
   ]
  },
  {
   "cell_type": "markdown",
   "id": "5beaf52d",
   "metadata": {},
   "source": [
    "## Using the first difference to make the data stationary"
   ]
  },
  {
   "cell_type": "code",
   "execution_count": 20,
   "id": "45192c13",
   "metadata": {},
   "outputs": [],
   "source": [
    "df['first_difference'] = df['passengers'].diff()"
   ]
  },
  {
   "cell_type": "code",
   "execution_count": 21,
   "id": "44666161",
   "metadata": {},
   "outputs": [],
   "source": [
    "adf = adfuller(df['first_difference'].dropna())"
   ]
  },
  {
   "cell_type": "code",
   "execution_count": 22,
   "id": "b16f6522",
   "metadata": {},
   "outputs": [
    {
     "data": {
      "text/plain": [
       "(-2.7171305983881595,\n",
       " 0.07112054815085424,\n",
       " 14,\n",
       " 128,\n",
       " {'1%': -3.4825006939887997,\n",
       "  '5%': -2.884397984161377,\n",
       "  '10%': -2.578960197753906},\n",
       " -440.35846985568105)"
      ]
     },
     "execution_count": 22,
     "metadata": {},
     "output_type": "execute_result"
    }
   ],
   "source": [
    "adf"
   ]
  },
  {
   "cell_type": "markdown",
   "id": "8e270ac7",
   "metadata": {},
   "source": [
    "#### Analysis:\n",
    "    As the pvalue is still greater than 0.05 we accept the null hypothesis i.e. data is non-stationary"
   ]
  },
  {
   "cell_type": "code",
   "execution_count": 23,
   "id": "fde1d50f",
   "metadata": {},
   "outputs": [
    {
     "data": {
      "text/plain": [
       "<AxesSubplot:xlabel='time'>"
      ]
     },
     "execution_count": 23,
     "metadata": {},
     "output_type": "execute_result"
    },
    {
     "data": {
      "image/png": "[encoded data removed]",
      "text/plain": [
       "<Figure size 360x360 with 1 Axes>"
      ]
     },
     "metadata": {
      "needs_background": "light"
     },
     "output_type": "display_data"
    }
   ],
   "source": [
    "df['first_difference'].plot(figsize=(5,5))"
   ]
  },
  {
   "cell_type": "code",
   "execution_count": 24,
   "id": "e66e9f78",
   "metadata": {},
   "outputs": [],
   "source": [
    "df['second_difference'] = df['passengers'].diff().diff()"
   ]
  },
  {
   "cell_type": "code",
   "execution_count": 25,
   "id": "b473a621",
   "metadata": {},
   "outputs": [],
   "source": [
    "adf = adfuller(df['second_difference'].dropna())"
   ]
  },
  {
   "cell_type": "code",
   "execution_count": 26,
   "id": "168ec59c",
   "metadata": {},
   "outputs": [
    {
     "data": {
      "text/plain": [
       "(-8.196629132182144,\n",
       " 7.419304549380349e-13,\n",
       " 13,\n",
       " 128,\n",
       " {'1%': -3.4825006939887997,\n",
       "  '5%': -2.884397984161377,\n",
       "  '10%': -2.578960197753906},\n",
       " -430.89362828642743)"
      ]
     },
     "execution_count": 26,
     "metadata": {},
     "output_type": "execute_result"
    }
   ],
   "source": [
    "adf"
   ]
  },
  {
   "cell_type": "markdown",
   "id": "86b7350f",
   "metadata": {},
   "source": [
    "#### Analysis:\n",
    "    As the pvalue is lesser than 0.05 we reject the null hypothesis i.e. data is stationary"
   ]
  },
  {
   "cell_type": "markdown",
   "id": "1ed688c1",
   "metadata": {},
   "source": [
    "#### Conclusion:\n",
    "    The time series is now stationary"
   ]
  },
  {
   "cell_type": "markdown",
   "id": "6ca650cc",
   "metadata": {},
   "source": [
    "## ACF plot"
   ]
  },
  {
   "cell_type": "code",
   "execution_count": 27,
   "id": "9ac3fb57",
   "metadata": {},
   "outputs": [
    {
     "data": {
      "image/png": "[encoded data removed]",
      "text/plain": [
       "<Figure size 432x288 with 1 Axes>"
      ]
     },
     "execution_count": 27,
     "metadata": {},
     "output_type": "execute_result"
    },
    {
     "data": {
      "image/png": "[encoded data removed]",
      "text/plain": [
       "<Figure size 432x288 with 1 Axes>"
      ]
     },
     "metadata": {
      "needs_background": "light"
     },
     "output_type": "display_data"
    }
   ],
   "source": [
    "plot_acf(df['second_difference'].dropna())"
   ]
  },
  {
   "cell_type": "code",
   "execution_count": 28,
   "id": "cf4048d5",
   "metadata": {},
   "outputs": [],
   "source": [
    "#The q value is 1 or 2"
   ]
  },
  {
   "cell_type": "markdown",
   "id": "e08cb9cc",
   "metadata": {},
   "source": [
    "## PACF plot"
   ]
  },
  {
   "cell_type": "code",
   "execution_count": 29,
   "id": "8ea04d25",
   "metadata": {
    "scrolled": false
   },
   "outputs": [
    {
     "data": {
      "image/png": "[encoded data removed]",
      "text/plain": [
       "<Figure size 432x288 with 1 Axes>"
      ]
     },
     "execution_count": 29,
     "metadata": {},
     "output_type": "execute_result"
    },
    {
     "data": {
      "image/png": "[encoded data removed]",
      "text/plain": [
       "<Figure size 432x288 with 1 Axes>"
      ]
     },
     "metadata": {
      "needs_background": "light"
     },
     "output_type": "display_data"
    }
   ],
   "source": [
    "plot_pacf(df['second_difference'].dropna())"
   ]
  },
  {
   "cell_type": "code",
   "execution_count": 30,
   "id": "d2c29ba9",
   "metadata": {},
   "outputs": [],
   "source": [
    "# p value is 1"
   ]
  },
  {
   "cell_type": "markdown",
   "id": "c30e1c29",
   "metadata": {},
   "source": [
    "### Analysis:\n",
    "    From the above analysis we conclude that the p,q and d values are 1,1 or 2,2"
   ]
  },
  {
   "cell_type": "markdown",
   "id": "1742a408",
   "metadata": {},
   "source": [
    "## Fitting ARIMA"
   ]
  },
  {
   "cell_type": "code",
   "execution_count": 31,
   "id": "b4c97480",
   "metadata": {},
   "outputs": [],
   "source": [
    "model_arima = ARIMA(df['passengers'],order=(0,2,2))"
   ]
  },
  {
   "cell_type": "code",
   "execution_count": 32,
   "id": "94cac792",
   "metadata": {},
   "outputs": [],
   "source": [
    "arima = model_arima.fit()"
   ]
  },
  {
   "cell_type": "code",
   "execution_count": 33,
   "id": "0f467c73",
   "metadata": {},
   "outputs": [],
   "source": [
    "df['forecast'] = arima.predict(start=120,end=144,dynamic=True)"
   ]
  },
  {
   "cell_type": "code",
   "execution_count": 34,
   "id": "1f067585",
   "metadata": {},
   "outputs": [
    {
     "data": {
      "text/plain": [
       "<AxesSubplot:xlabel='time'>"
      ]
     },
     "execution_count": 34,
     "metadata": {},
     "output_type": "execute_result"
    },
    {
     "data": {
      "image/png": "[encoded data removed]",
      "text/plain": [
       "<Figure size 432x288 with 1 Axes>"
      ]
     },
     "metadata": {
      "needs_background": "light"
     },
     "output_type": "display_data"
    }
   ],
   "source": [
    "df[['passengers','forecast']].plot()"
   ]
  },
  {
   "cell_type": "code",
   "execution_count": 35,
   "id": "caf77177",
   "metadata": {},
   "outputs": [
    {
     "data": {
      "text/plain": [
       "-1473.427039840981"
      ]
     },
     "execution_count": 35,
     "metadata": {},
     "output_type": "execute_result"
    }
   ],
   "source": [
    "r2_score(df['passengers'][120:144],df['forecast'][120:144])"
   ]
  },
  {
   "cell_type": "markdown",
   "id": "77677138",
   "metadata": {},
   "source": [
    "## Implementing sarimax"
   ]
  },
  {
   "cell_type": "code",
   "execution_count": 36,
   "id": "d70c31d9",
   "metadata": {},
   "outputs": [],
   "source": [
    "model_sarima = sarimax.SARIMAX(df['passengers'],order=(1,2,2),seasonal_order = (1,2,2,12))"
   ]
  },
  {
   "cell_type": "code",
   "execution_count": 37,
   "id": "a11f9541",
   "metadata": {},
   "outputs": [],
   "source": [
    "sarima = model_sarima.fit()"
   ]
  },
  {
   "cell_type": "code",
   "execution_count": 38,
   "id": "0f775385",
   "metadata": {},
   "outputs": [
    {
     "data": {
      "text/html": [
       "<table class=\"simpletable\">\n",
       "<caption>SARIMAX Results</caption>\n",
       "<tr>\n",
       "  <th>Dep. Variable:</th>             <td>passengers</td>           <th>  No. Observations:  </th>    <td>144</td>  \n",
       "</tr>\n",
       "<tr>\n",
       "  <th>Model:</th>           <td>SARIMAX(1, 2, 2)x(1, 2, 2, 12)</td> <th>  Log Likelihood     </th>  <td>197.501</td>\n",
       "</tr>\n",
       "<tr>\n",
       "  <th>Date:</th>                   <td>Mon, 13 Jun 2022</td>        <th>  AIC                </th> <td>-381.001</td>\n",
       "</tr>\n",
       "<tr>\n",
       "  <th>Time:</th>                       <td>14:14:33</td>            <th>  BIC                </th> <td>-361.606</td>\n",
       "</tr>\n",
       "<tr>\n",
       "  <th>Sample:</th>                    <td>01-01-1949</td>           <th>  HQIC               </th> <td>-373.126</td>\n",
       "</tr>\n",
       "<tr>\n",
       "  <th></th>                          <td>- 12-01-1960</td>          <th>                     </th>     <td> </td>   \n",
       "</tr>\n",
       "<tr>\n",
       "  <th>Covariance Type:</th>               <td>opg</td>              <th>                     </th>     <td> </td>   \n",
       "</tr>\n",
       "</table>\n",
       "<table class=\"simpletable\">\n",
       "<tr>\n",
       "      <td></td>        <th>coef</th>     <th>std err</th>      <th>z</th>      <th>P>|z|</th>  <th>[0.025</th>    <th>0.975]</th>  \n",
       "</tr>\n",
       "<tr>\n",
       "  <th>ar.L1</th>    <td>    0.0102</td> <td>    0.211</td> <td>    0.048</td> <td> 0.961</td> <td>   -0.404</td> <td>    0.425</td>\n",
       "</tr>\n",
       "<tr>\n",
       "  <th>ma.L1</th>    <td>   -1.4623</td> <td>    0.270</td> <td>   -5.408</td> <td> 0.000</td> <td>   -1.992</td> <td>   -0.932</td>\n",
       "</tr>\n",
       "<tr>\n",
       "  <th>ma.L2</th>    <td>    0.4693</td> <td>    0.180</td> <td>    2.601</td> <td> 0.009</td> <td>    0.116</td> <td>    0.823</td>\n",
       "</tr>\n",
       "<tr>\n",
       "  <th>ar.S.L12</th> <td>    0.0024</td> <td>    0.218</td> <td>    0.011</td> <td> 0.991</td> <td>   -0.425</td> <td>    0.429</td>\n",
       "</tr>\n",
       "<tr>\n",
       "  <th>ma.S.L12</th> <td>   -1.9122</td> <td>   19.433</td> <td>   -0.098</td> <td> 0.922</td> <td>  -39.999</td> <td>   36.175</td>\n",
       "</tr>\n",
       "<tr>\n",
       "  <th>ma.S.L24</th> <td>    0.9239</td> <td>   17.806</td> <td>    0.052</td> <td> 0.959</td> <td>  -33.975</td> <td>   35.823</td>\n",
       "</tr>\n",
       "<tr>\n",
       "  <th>sigma2</th>   <td>    0.0010</td> <td>    0.019</td> <td>    0.051</td> <td> 0.959</td> <td>   -0.037</td> <td>    0.039</td>\n",
       "</tr>\n",
       "</table>\n",
       "<table class=\"simpletable\">\n",
       "<tr>\n",
       "  <th>Ljung-Box (L1) (Q):</th>     <td>0.00</td> <th>  Jarque-Bera (JB):  </th> <td>0.96</td>\n",
       "</tr>\n",
       "<tr>\n",
       "  <th>Prob(Q):</th>                <td>0.98</td> <th>  Prob(JB):          </th> <td>0.62</td>\n",
       "</tr>\n",
       "<tr>\n",
       "  <th>Heteroskedasticity (H):</th> <td>0.59</td> <th>  Skew:              </th> <td>0.22</td>\n",
       "</tr>\n",
       "<tr>\n",
       "  <th>Prob(H) (two-sided):</th>    <td>0.11</td> <th>  Kurtosis:          </th> <td>3.00</td>\n",
       "</tr>\n",
       "</table><br/><br/>Warnings:<br/>[1] Covariance matrix calculated using the outer product of gradients (complex-step)."
      ],
      "text/plain": [
       "<class 'statsmodels.iolib.summary.Summary'>\n",
       "\"\"\"\n",
       "                                     SARIMAX Results                                      \n",
       "==========================================================================================\n",
       "Dep. Variable:                         passengers   No. Observations:                  144\n",
       "Model:             SARIMAX(1, 2, 2)x(1, 2, 2, 12)   Log Likelihood                 197.501\n",
       "Date:                            Mon, 13 Jun 2022   AIC                           -381.001\n",
       "Time:                                    14:14:33   BIC                           -361.606\n",
       "Sample:                                01-01-1949   HQIC                          -373.126\n",
       "                                     - 12-01-1960                                         \n",
       "Covariance Type:                              opg                                         \n",
       "==============================================================================\n",
       "                 coef    std err          z      P>|z|      [0.025      0.975]\n",
       "------------------------------------------------------------------------------\n",
       "ar.L1          0.0102      0.211      0.048      0.961      -0.404       0.425\n",
       "ma.L1         -1.4623      0.270     -5.408      0.000      -1.992      -0.932\n",
       "ma.L2          0.4693      0.180      2.601      0.009       0.116       0.823\n",
       "ar.S.L12       0.0024      0.218      0.011      0.991      -0.425       0.429\n",
       "ma.S.L12      -1.9122     19.433     -0.098      0.922     -39.999      36.175\n",
       "ma.S.L24       0.9239     17.806      0.052      0.959     -33.975      35.823\n",
       "sigma2         0.0010      0.019      0.051      0.959      -0.037       0.039\n",
       "===================================================================================\n",
       "Ljung-Box (L1) (Q):                   0.00   Jarque-Bera (JB):                 0.96\n",
       "Prob(Q):                              0.98   Prob(JB):                         0.62\n",
       "Heteroskedasticity (H):               0.59   Skew:                             0.22\n",
       "Prob(H) (two-sided):                  0.11   Kurtosis:                         3.00\n",
       "===================================================================================\n",
       "\n",
       "Warnings:\n",
       "[1] Covariance matrix calculated using the outer product of gradients (complex-step).\n",
       "\"\"\""
      ]
     },
     "execution_count": 38,
     "metadata": {},
     "output_type": "execute_result"
    }
   ],
   "source": [
    "sarima.summary()"
   ]
  },
  {
   "cell_type": "code",
   "execution_count": 39,
   "id": "9dafe7a5",
   "metadata": {},
   "outputs": [],
   "source": [
    "df['sarima_forecast'] = sarima.predict(start=114,end=144,dynamic=True)"
   ]
  },
  {
   "cell_type": "code",
   "execution_count": 40,
   "id": "b6202a17",
   "metadata": {},
   "outputs": [
    {
     "data": {
      "text/plain": [
       "<AxesSubplot:xlabel='time'>"
      ]
     },
     "execution_count": 40,
     "metadata": {},
     "output_type": "execute_result"
    },
    {
     "data": {
      "image/png": "[encoded data removed]",
      "text/plain": [
       "<Figure size 432x288 with 1 Axes>"
      ]
     },
     "metadata": {
      "needs_background": "light"
     },
     "output_type": "display_data"
    }
   ],
   "source": [
    "df[['passengers','sarima_forecast']].plot()"
   ]
  },
  {
   "cell_type": "code",
   "execution_count": 41,
   "id": "a65087f8",
   "metadata": {
    "scrolled": false
   },
   "outputs": [
    {
     "data": {
      "text/plain": [
       "-1.276383988893452"
      ]
     },
     "execution_count": 41,
     "metadata": {},
     "output_type": "execute_result"
    }
   ],
   "source": [
    "r2_score(df['passengers'][120:144],df['sarima_forecast'][120:144])"
   ]
  },
  {
   "cell_type": "code",
   "execution_count": 42,
   "id": "07b7dcaf",
   "metadata": {},
   "outputs": [
    {
     "data": {
      "text/plain": [
       "0.057573905165781085"
      ]
     },
     "execution_count": 42,
     "metadata": {},
     "output_type": "execute_result"
    }
   ],
   "source": [
    "mean_squared_error(df['passengers'][120:144],df['sarima_forecast'][120:144])"
   ]
  },
  {
   "cell_type": "code",
   "execution_count": 43,
   "id": "8cf2320f",
   "metadata": {
    "scrolled": true
   },
   "outputs": [
    {
     "name": "stdout",
     "output_type": "stream",
     "text": [
      "Performing stepwise search to minimize aic\n",
      " ARIMA(0,1,0)(0,1,0)[12]             : AIC=-353.412, Time=0.09 sec\n",
      " ARIMA(1,1,0)(1,1,0)[12]             : AIC=-383.359, Time=0.27 sec\n",
      " ARIMA(0,1,1)(0,1,1)[12]             : AIC=-389.010, Time=0.70 sec\n",
      " ARIMA(0,1,1)(0,1,0)[12]             : AIC=-364.326, Time=0.12 sec\n",
      " ARIMA(0,1,1)(1,1,1)[12]             : AIC=-387.220, Time=1.03 sec\n",
      " ARIMA(0,1,1)(0,1,2)[12]             : AIC=-387.254, Time=1.49 sec\n",
      " ARIMA(0,1,1)(1,1,0)[12]             : AIC=-384.232, Time=0.51 sec\n",
      " ARIMA(0,1,1)(1,1,2)[12]             : AIC=inf, Time=3.35 sec\n",
      " ARIMA(0,1,0)(0,1,1)[12]             : AIC=-379.989, Time=0.56 sec\n",
      " ARIMA(1,1,1)(0,1,1)[12]             : AIC=-387.279, Time=1.42 sec\n",
      " ARIMA(0,1,2)(0,1,1)[12]             : AIC=-387.065, Time=1.07 sec\n",
      " ARIMA(1,1,0)(0,1,1)[12]             : AIC=-388.643, Time=0.53 sec\n",
      " ARIMA(1,1,2)(0,1,1)[12]             : AIC=-385.329, Time=1.47 sec\n",
      " ARIMA(0,1,1)(0,1,1)[12] intercept   : AIC=-387.202, Time=0.81 sec\n",
      "\n",
      "Best model:  ARIMA(0,1,1)(0,1,1)[12]          \n",
      "Total fit time: 13.440 seconds\n"
     ]
    }
   ],
   "source": [
    "model=auto_arima(df['passengers'][:120],start_p=0,d=1,start_q=0,max_p=3,max_d=3,max_q=3, start_P=0,D=1, start_Q=0, max_P=5,max_D=5,\n",
    "                 max_Q=5, m=12, seasonal=True,error_action='warn',trace=True,supress_warnings=True,stepwise=True,\n",
    "                 random_state=50,n_fits=50,test='adf')"
   ]
  },
  {
   "cell_type": "code",
   "execution_count": 44,
   "id": "dda66c0b",
   "metadata": {
    "scrolled": true
   },
   "outputs": [
    {
     "data": {
      "text/html": [
       "<table class=\"simpletable\">\n",
       "<caption>SARIMAX Results</caption>\n",
       "<tr>\n",
       "  <th>Dep. Variable:</th>                  <td>y</td>               <th>  No. Observations:  </th>    <td>120</td>  \n",
       "</tr>\n",
       "<tr>\n",
       "  <th>Model:</th>           <td>SARIMAX(0, 1, 1)x(0, 1, 1, 12)</td> <th>  Log Likelihood     </th>  <td>197.505</td>\n",
       "</tr>\n",
       "<tr>\n",
       "  <th>Date:</th>                   <td>Mon, 13 Jun 2022</td>        <th>  AIC                </th> <td>-389.010</td>\n",
       "</tr>\n",
       "<tr>\n",
       "  <th>Time:</th>                       <td>14:14:47</td>            <th>  BIC                </th> <td>-380.991</td>\n",
       "</tr>\n",
       "<tr>\n",
       "  <th>Sample:</th>                         <td>0</td>               <th>  HQIC               </th> <td>-385.759</td>\n",
       "</tr>\n",
       "<tr>\n",
       "  <th></th>                             <td> - 120</td>             <th>                     </th>     <td> </td>   \n",
       "</tr>\n",
       "<tr>\n",
       "  <th>Covariance Type:</th>               <td>opg</td>              <th>                     </th>     <td> </td>   \n",
       "</tr>\n",
       "</table>\n",
       "<table class=\"simpletable\">\n",
       "<tr>\n",
       "      <td></td>        <th>coef</th>     <th>std err</th>      <th>z</th>      <th>P>|z|</th>  <th>[0.025</th>    <th>0.975]</th>  \n",
       "</tr>\n",
       "<tr>\n",
       "  <th>ma.L1</th>    <td>   -0.3425</td> <td>    0.087</td> <td>   -3.921</td> <td> 0.000</td> <td>   -0.514</td> <td>   -0.171</td>\n",
       "</tr>\n",
       "<tr>\n",
       "  <th>ma.S.L12</th> <td>   -0.5404</td> <td>    0.105</td> <td>   -5.152</td> <td> 0.000</td> <td>   -0.746</td> <td>   -0.335</td>\n",
       "</tr>\n",
       "<tr>\n",
       "  <th>sigma2</th>   <td>    0.0014</td> <td>    0.000</td> <td>    7.861</td> <td> 0.000</td> <td>    0.001</td> <td>    0.002</td>\n",
       "</tr>\n",
       "</table>\n",
       "<table class=\"simpletable\">\n",
       "<tr>\n",
       "  <th>Ljung-Box (L1) (Q):</th>     <td>0.01</td> <th>  Jarque-Bera (JB):  </th> <td>0.94</td>\n",
       "</tr>\n",
       "<tr>\n",
       "  <th>Prob(Q):</th>                <td>0.92</td> <th>  Prob(JB):          </th> <td>0.62</td>\n",
       "</tr>\n",
       "<tr>\n",
       "  <th>Heteroskedasticity (H):</th> <td>0.37</td> <th>  Skew:              </th> <td>0.12</td>\n",
       "</tr>\n",
       "<tr>\n",
       "  <th>Prob(H) (two-sided):</th>    <td>0.00</td> <th>  Kurtosis:          </th> <td>3.39</td>\n",
       "</tr>\n",
       "</table><br/><br/>Warnings:<br/>[1] Covariance matrix calculated using the outer product of gradients (complex-step)."
      ],
      "text/plain": [
       "<class 'statsmodels.iolib.summary.Summary'>\n",
       "\"\"\"\n",
       "                                     SARIMAX Results                                      \n",
       "==========================================================================================\n",
       "Dep. Variable:                                  y   No. Observations:                  120\n",
       "Model:             SARIMAX(0, 1, 1)x(0, 1, 1, 12)   Log Likelihood                 197.505\n",
       "Date:                            Mon, 13 Jun 2022   AIC                           -389.010\n",
       "Time:                                    14:14:47   BIC                           -380.991\n",
       "Sample:                                         0   HQIC                          -385.759\n",
       "                                            - 120                                         \n",
       "Covariance Type:                              opg                                         \n",
       "==============================================================================\n",
       "                 coef    std err          z      P>|z|      [0.025      0.975]\n",
       "------------------------------------------------------------------------------\n",
       "ma.L1         -0.3425      0.087     -3.921      0.000      -0.514      -0.171\n",
       "ma.S.L12      -0.5404      0.105     -5.152      0.000      -0.746      -0.335\n",
       "sigma2         0.0014      0.000      7.861      0.000       0.001       0.002\n",
       "===================================================================================\n",
       "Ljung-Box (L1) (Q):                   0.01   Jarque-Bera (JB):                 0.94\n",
       "Prob(Q):                              0.92   Prob(JB):                         0.62\n",
       "Heteroskedasticity (H):               0.37   Skew:                             0.12\n",
       "Prob(H) (two-sided):                  0.00   Kurtosis:                         3.39\n",
       "===================================================================================\n",
       "\n",
       "Warnings:\n",
       "[1] Covariance matrix calculated using the outer product of gradients (complex-step).\n",
       "\"\"\""
      ]
     },
     "execution_count": 44,
     "metadata": {},
     "output_type": "execute_result"
    }
   ],
   "source": [
    "model.summary()"
   ]
  },
  {
   "cell_type": "code",
   "execution_count": 45,
   "id": "d2a66fc7",
   "metadata": {},
   "outputs": [],
   "source": [
    "model_sarima = sarimax.SARIMAX(df['passengers'],order=(0,1,1),seasonal_order = (0,1,1,12))"
   ]
  },
  {
   "cell_type": "code",
   "execution_count": 46,
   "id": "0dff3b8f",
   "metadata": {},
   "outputs": [],
   "source": [
    "sarima = model_sarima.fit()"
   ]
  },
  {
   "cell_type": "code",
   "execution_count": 47,
   "id": "366d5bff",
   "metadata": {},
   "outputs": [],
   "source": [
    "df['sarima_forecast'] = sarima.predict(start=119,end=144,dynamic=True)"
   ]
  },
  {
   "cell_type": "code",
   "execution_count": 48,
   "id": "a076cc45",
   "metadata": {},
   "outputs": [
    {
     "data": {
      "text/plain": [
       "<AxesSubplot:xlabel='time'>"
      ]
     },
     "execution_count": 48,
     "metadata": {},
     "output_type": "execute_result"
    },
    {
     "data": {
      "image/png": "[encoded data removed]",
      "text/plain": [
       "<Figure size 432x288 with 1 Axes>"
      ]
     },
     "metadata": {
      "needs_background": "light"
     },
     "output_type": "display_data"
    }
   ],
   "source": [
    "df[['passengers','sarima_forecast']].plot()"
   ]
  },
  {
   "cell_type": "code",
   "execution_count": 49,
   "id": "2b104d70",
   "metadata": {},
   "outputs": [
    {
     "data": {
      "text/plain": [
       "0.8662484893909386"
      ]
     },
     "execution_count": 49,
     "metadata": {},
     "output_type": "execute_result"
    }
   ],
   "source": [
    "r2_score(df['passengers'][119:144],df['sarima_forecast'][119:144])"
   ]
  },
  {
   "cell_type": "code",
   "execution_count": 50,
   "id": "2f4debec",
   "metadata": {},
   "outputs": [
    {
     "data": {
      "text/plain": [
       "0.0036536570961396004"
      ]
     },
     "execution_count": 50,
     "metadata": {},
     "output_type": "execute_result"
    }
   ],
   "source": [
    "mean_squared_error(df['passengers'][119:144],df['sarima_forecast'][119:144])"
   ]
  },
  {
   "cell_type": "code",
   "execution_count": 52,
   "id": "c211d2c5",
   "metadata": {},
   "outputs": [],
   "source": [
    "future_dates = [df.index[-1]+DateOffset(months=x) for x in range(0,24)]"
   ]
  },
  {
   "cell_type": "code",
   "execution_count": 53,
   "id": "841cee70",
   "metadata": {
    "scrolled": true
   },
   "outputs": [
    {
     "data": {
      "text/plain": [
       "[Timestamp('1960-12-01 00:00:00'),\n",
       " Timestamp('1961-01-01 00:00:00'),\n",
       " Timestamp('1961-02-01 00:00:00'),\n",
       " Timestamp('1961-03-01 00:00:00'),\n",
       " Timestamp('1961-04-01 00:00:00'),\n",
       " Timestamp('1961-05-01 00:00:00'),\n",
       " Timestamp('1961-06-01 00:00:00'),\n",
       " Timestamp('1961-07-01 00:00:00'),\n",
       " Timestamp('1961-08-01 00:00:00'),\n",
       " Timestamp('1961-09-01 00:00:00'),\n",
       " Timestamp('1961-10-01 00:00:00'),\n",
       " Timestamp('1961-11-01 00:00:00'),\n",
       " Timestamp('1961-12-01 00:00:00'),\n",
       " Timestamp('1962-01-01 00:00:00'),\n",
       " Timestamp('1962-02-01 00:00:00'),\n",
       " Timestamp('1962-03-01 00:00:00'),\n",
       " Timestamp('1962-04-01 00:00:00'),\n",
       " Timestamp('1962-05-01 00:00:00'),\n",
       " Timestamp('1962-06-01 00:00:00'),\n",
       " Timestamp('1962-07-01 00:00:00'),\n",
       " Timestamp('1962-08-01 00:00:00'),\n",
       " Timestamp('1962-09-01 00:00:00'),\n",
       " Timestamp('1962-10-01 00:00:00'),\n",
       " Timestamp('1962-11-01 00:00:00')]"
      ]
     },
     "execution_count": 53,
     "metadata": {},
     "output_type": "execute_result"
    }
   ],
   "source": [
    "future_dates"
   ]
  },
  {
   "cell_type": "code",
   "execution_count": 55,
   "id": "d672086e",
   "metadata": {},
   "outputs": [],
   "source": [
    "new_df = pd.DataFrame(index= future_dates[1:],columns=df.columns)"
   ]
  },
  {
   "cell_type": "code",
   "execution_count": 56,
   "id": "4286d5a3",
   "metadata": {},
   "outputs": [],
   "source": [
    "forecast_df = pd.concat([df,new_df])"
   ]
  },
  {
   "cell_type": "code",
   "execution_count": 58,
   "id": "9cc24b46",
   "metadata": {},
   "outputs": [],
   "source": [
    "forecast_df['sarima_forecast'] = sarima.predict(start=140,end=160,dynamic=True)"
   ]
  },
  {
   "cell_type": "code",
   "execution_count": 59,
   "id": "84c03f63",
   "metadata": {},
   "outputs": [
    {
     "data": {
      "text/plain": [
       "<AxesSubplot:>"
      ]
     },
     "execution_count": 59,
     "metadata": {},
     "output_type": "execute_result"
    },
    {
     "data": {
      "image/png": "[encoded data removed]",
      "text/plain": [
       "<Figure size 432x288 with 1 Axes>"
      ]
     },
     "metadata": {
      "needs_background": "light"
     },
     "output_type": "display_data"
    }
   ],
   "source": [
    "forecast_df[['passengers','sarima_forecast']].plot()"
   ]
  },
  {
   "cell_type": "code",
   "execution_count": 64,
   "id": "a5a75481",
   "metadata": {},
   "outputs": [],
   "source": [
    "forecast_df = np.exp(forecast_df)"
   ]
  },
  {
   "cell_type": "code",
   "execution_count": 65,
   "id": "c1f0b49b",
   "metadata": {},
   "outputs": [
    {
     "data": {
      "text/plain": [
       "<AxesSubplot:>"
      ]
     },
     "execution_count": 65,
     "metadata": {},
     "output_type": "execute_result"
    },
    {
     "data": {
      "image/png": "[encoded data removed]",
      "text/plain": [
       "<Figure size 432x288 with 1 Axes>"
      ]
     },
     "metadata": {
      "needs_background": "light"
     },
     "output_type": "display_data"
    }
   ],
   "source": [
    "forecast_df[['passengers','sarima_forecast']].plot()"
   ]
  },
  {
   "cell_type": "code",
   "execution_count": null,
   "id": "8a6300ee",
   "metadata": {},
   "outputs": [],
   "source": []
  }
 ],
 "metadata": {
  "kernelspec": {
   "display_name": "Python 3 (ipykernel)",
   "language": "python",
   "name": "python3"
  },
  "language_info": {
   "codemirror_mode": {
    "name": "ipython",
    "version": 3
   },
   "file_extension": ".py",
   "mimetype": "text/x-python",
   "name": "python",
   "nbconvert_exporter": "python",
   "pygments_lexer": "ipython3",
   "version": "3.9.7"
  }
 },
 "nbformat": 4,
 "nbformat_minor": 5
}
